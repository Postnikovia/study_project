{
 "cells": [
  {
   "cell_type": "code",
   "execution_count": 2,
   "id": "b2596f16-8d31-4fce-9261-ad62975d5073",
   "metadata": {
    "tags": []
   },
   "outputs": [],
   "source": [
    " #cначала создадим Spark сессию\n",
    "from pyspark.sql.session import SparkSession\n",
    "from pyspark.sql.types import StructType, StructField, StringType, DoubleType, ByteType, ShortType\n",
    "\n",
    "spark = SparkSession.builder.appName('home_work').getOrCreate()"
   ]
  },
  {
   "cell_type": "code",
   "execution_count": 3,
   "id": "e6ddbf8e-4d64-4301-ae7f-7616ad4d0c8f",
   "metadata": {},
   "outputs": [],
   "source": [
    "#считываем airlines.csv\n",
    "schema = StructType([\n",
    "    StructField(\"IATA_CODE\", StringType(), True),\n",
    "    StructField(\"AIRLINE\", StringType(), True),\n",
    "])\n",
    "dfal = spark.read.csv(\"source_data/airlines.csv\", header=True, schema=schema)"
   ]
  },
  {
   "cell_type": "code",
   "execution_count": 4,
   "id": "72589f05-428b-43a1-904c-6a929b04d6cf",
   "metadata": {
    "tags": []
   },
   "outputs": [],
   "source": [
    "#считываем airports.csv\n",
    "schema = StructType([\n",
    "    StructField(\"IATA_CODE\", StringType(), True),\n",
    "    StructField(\"AIRPORT\", StringType(), True),\n",
    "    StructField(\"CITY\", StringType(), True),\n",
    "    StructField(\"STATE\", StringType(), True),\n",
    "    StructField(\"COUNTRY\", StringType(), True),\n",
    "    StructField(\"LATITUDE\", DoubleType(), True),\n",
    "    StructField(\"LONGITUDE\", DoubleType(), True),\n",
    "])\n",
    "dfap = spark.read.csv(\"source_data/airports.csv\", header=True, schema=schema)"
   ]
  },
  {
   "cell_type": "code",
   "execution_count": 5,
   "id": "9fd9cddc-b3eb-49dc-9342-1529579dc90d",
   "metadata": {
    "tags": []
   },
   "outputs": [],
   "source": [
    "#считываем flights.csv\n",
    "schema = StructType([\n",
    "    StructField(\"YEAR\", StringType(), True),\n",
    "    StructField(\"MONTH\", StringType(), True),\n",
    "    StructField(\"DAY\", StringType(), True),\n",
    "    StructField(\"DAY_OF_WEEK\", StringType(), True),\n",
    "    StructField(\"AIRLINE\", StringType(), True),\n",
    "    StructField(\"FLIGHT_NUMBER\", StringType(), True),\n",
    "    StructField(\"TAIL_NUMBER\", StringType(), True),\n",
    "    StructField(\"ORIGIN_AIRPORT\", StringType(), True),\n",
    "    StructField(\"DESTINATION_AIRPORT\", StringType(), True),\n",
    "    StructField(\"SCHEDULED_DEPARTURE\", StringType(), True),\n",
    "    StructField(\"DEPARTURE_TIME\", StringType(), True),\n",
    "    StructField(\"DEPARTURE_DELAY\", ShortType(), True),\n",
    "    StructField(\"TAXI_OUT\", ByteType(), True),\n",
    "    StructField(\"WHEELS_OFF\", StringType(), True),\n",
    "    StructField(\"SCHEDULED_TIME\", StringType(), True),\n",
    "    StructField(\"ELAPSED_TIME\", StringType(), True),\n",
    "    StructField(\"AIR_TIME\", StringType(), True),\n",
    "    StructField(\"DISTANCE\", StringType(), True),          \n",
    "    StructField(\"WHEELS_ON\", StringType(), True),\n",
    "    StructField(\"TAXI_IN\", StringType(), True),\n",
    "    StructField(\"SCHEDULED_ARRIVAL\", StringType(), True),\n",
    "    StructField(\"ARRIVAL_TIME\", StringType(), True),\n",
    "    StructField(\"ARRIVAL_DELAY\", StringType(), True),\n",
    "    StructField(\"DIVERTED\", StringType(), True),             \n",
    "    StructField(\"CANCELLED\", StringType(), True),\n",
    "    StructField(\"CANCELLATION_REASON\", StringType(), True),\n",
    "    StructField(\"AIR_SYSTEM_DELAY\", StringType(), True),\n",
    "    StructField(\"SECURITY_DELAY\", StringType(), True),\n",
    "    StructField(\"AIRLINE_DELAY\", StringType(), True),\n",
    "    StructField(\"LATE_AIRCRAFT_DELAY\", StringType(), True),\n",
    "    StructField(\"WEATHER_DELAY\", StringType(), True),\n",
    "])\n",
    "dff = spark.read.csv(\"source_data/flights.csv\", header=True, schema=schema, sep=\";\").distinct()"
   ]
  },
  {
   "cell_type": "code",
   "execution_count": 12,
   "id": "66d1ee7a-a990-4fdb-9a22-4fa2c1d61b24",
   "metadata": {
    "tags": []
   },
   "outputs": [],
   "source": [
    "query = '''\n",
    "    WITH cte AS (\n",
    "        SELECT \n",
    "            dfal.AIRLINE,\n",
    "            dff.TAXI_OUT,\n",
    "            dff.DEPARTURE_DELAY,\n",
    "            CASE WHEN dff.MONTH IN (3, 4, 5) THEN 'spring' \n",
    "                 WHEN dff.MONTH IN (6, 7, 8) THEN 'summer'\n",
    "                 WHEN dff.MONTH IN (9, 10, 11) THEN 'autumn'\n",
    "                 ELSE 'winter' \n",
    "            END AS SEASON,\n",
    "            CASE WHEN dfap.LATITUDE < 32.8 THEN 'south'\n",
    "                 WHEN dfap.LATITUDE > 52 THEN 'north'\n",
    "                 ELSE 'middle'\n",
    "            END AS REGION \n",
    "        FROM {dff} AS dff\n",
    "        JOIN {dfal} AS dfal ON dfal.IATA_CODE = dff.AIRLINE\n",
    "        JOIN {dfap} AS dfap ON dfap.IATA_CODE = dff.ORIGIN_AIRPORT\n",
    "        WHERE dfal.IATA_CODE = 'WN'\n",
    "        AND dff.TAXI_OUT IS NOT NULL\n",
    "        AND dff.DEPARTURE_DELAY IS NOT NULL\n",
    "    )\n",
    " \n",
    "    SELECT DISTINCT\n",
    "        cte.AIRLINE, \n",
    "        CAST((SELECT (AVG(c.TAXI_OUT * c.DEPARTURE_DELAY) - (AVG(c.TAXI_OUT) * AVG(c.DEPARTURE_DELAY))) / (STDDEV_POP(c.TAXI_OUT) * STDDEV_POP(c.DEPARTURE_DELAY)) FROM cte as c) AS decimal(14,3)) AS CORRELATION_WITH_DEPARTURE_DELAY,\n",
    "        MAX(cte.TAXI_OUT) OVER(PARTITION BY NULL) AS MAX_ALL,\n",
    "        PERCENTILE_CONT(0.5) WITHIN GROUP (ORDER BY cte.TAXI_OUT) OVER (PARTITION BY NULL) AS MEDIANA_ALL,\n",
    "        PERCENTILE_CONT(0.9) WITHIN GROUP (ORDER BY cte.TAXI_OUT) OVER (PARTITION BY NULL) AS 90_PERCENTILE_ALL,\n",
    "        cte.SEASON, \n",
    "        MAX(cte.TAXI_OUT) OVER(PARTITION BY cte.SEASON) AS MAX_SEASON,\n",
    "        PERCENTILE_CONT(0.5) WITHIN GROUP (ORDER BY cte.TAXI_OUT) OVER (PARTITION BY cte.SEASON) AS MEDIANA_SEASON,\n",
    "        PERCENTILE_CONT(0.9) WITHIN GROUP (ORDER BY cte.TAXI_OUT) OVER (PARTITION BY cte.SEASON) AS 90_PERCENTILE_SEASON,\n",
    "        cte.REGION,\n",
    "        MAX(cte.TAXI_OUT) OVER(PARTITION BY cte.SEASON, cte.REGION) AS MAX_REGION,\n",
    "        PERCENTILE_CONT(0.5) WITHIN GROUP (ORDER BY cte.TAXI_OUT) OVER (PARTITION BY cte.SEASON, cte.REGION) AS MEDIANA_REGION,\n",
    "        PERCENTILE_CONT(0.9) WITHIN GROUP (ORDER BY cte.TAXI_OUT) OVER (PARTITION BY cte.SEASON, cte.REGION) AS 90_PERCENTILE_REGION\n",
    "    FROM cte AS cte\n",
    "'''\n",
    "df_total = spark.sql(query, dff=dff, dfal=dfal, dfap=dfap)"
   ]
  },
  {
   "cell_type": "code",
   "execution_count": 13,
   "id": "60d58dcd-6eec-48c2-a47f-348da9834629",
   "metadata": {
    "tags": []
   },
   "outputs": [
    {
     "name": "stdout",
     "output_type": "stream",
     "text": [
      "+--------------------+--------------------------------+-------+-----------+-----------------+------+----------+--------------+--------------------+------+----------+--------------+--------------------+\n",
      "|             AIRLINE|CORRELATION_WITH_DEPARTURE_DELAY|MAX_ALL|MEDIANA_ALL|90_PERCENTILE_ALL|SEASON|MAX_SEASON|MEDIANA_SEASON|90_PERCENTILE_SEASON|REGION|MAX_REGION|MEDIANA_REGION|90_PERCENTILE_REGION|\n",
      "+--------------------+--------------------------------+-------+-----------+-----------------+------+----------+--------------+--------------------+------+----------+--------------+--------------------+\n",
      "|Southwest Airline...|                           0.046|    127|       10.0|             18.0|winter|       127|          10.0|                19.0|middle|       127|          11.0|                20.0|\n",
      "|Southwest Airline...|                           0.046|    127|       10.0|             18.0|winter|       127|          10.0|                19.0| south|       122|          10.0|                16.0|\n",
      "|Southwest Airline...|                           0.046|    127|       10.0|             18.0|summer|       127|          10.0|                18.0|middle|       127|          11.0|                19.0|\n",
      "|Southwest Airline...|                           0.046|    127|       10.0|             18.0|summer|       127|          10.0|                18.0| south|       124|          10.0|                16.0|\n",
      "|Southwest Airline...|                           0.046|    127|       10.0|             18.0|spring|       123|          10.0|                17.0|middle|       123|          10.0|                18.0|\n",
      "|Southwest Airline...|                           0.046|    127|       10.0|             18.0|spring|       123|          10.0|                17.0| south|       122|          10.0|                16.0|\n",
      "|Southwest Airline...|                           0.046|    127|       10.0|             18.0|autumn|       127|          10.0|                18.0|middle|       127|          11.0|                19.0|\n",
      "|Southwest Airline...|                           0.046|    127|       10.0|             18.0|autumn|       127|          10.0|                18.0| south|       102|          10.0|                16.0|\n",
      "+--------------------+--------------------------------+-------+-----------+-----------------+------+----------+--------------+--------------------+------+----------+--------------+--------------------+\n",
      "\n"
     ]
    }
   ],
   "source": [
    "df_total.show()"
   ]
  },
  {
   "cell_type": "code",
   "execution_count": 22,
   "id": "a0470128-f9b5-4716-ba36-63aaf492ef8c",
   "metadata": {
    "tags": []
   },
   "outputs": [],
   "source": [
    "#запишем данные во внутреннюю БД\n",
    "df_total.write \\\n",
    "    .mode(\"overwrite\") \\\n",
    "    .saveAsTable(\"new_test_table\")"
   ]
  },
  {
   "cell_type": "code",
   "execution_count": 23,
   "id": "09ea8fee-c9a0-4fac-b738-33b9535afcf0",
   "metadata": {
    "tags": []
   },
   "outputs": [
    {
     "name": "stdout",
     "output_type": "stream",
     "text": [
      "+--------------------+--------------------------------+-------+-----------+-----------------+------+----------+--------------+--------------------+------+----------+--------------+--------------------+\n",
      "|             AIRLINE|CORRELATION_WITH_DEPARTURE_DELAY|MAX_ALL|MEDIANA_ALL|90_PERCENTILE_ALL|SEASON|MAX_SEASON|MEDIANA_SEASON|90_PERCENTILE_SEASON|REGION|MAX_REGION|MEDIANA_REGION|90_PERCENTILE_REGION|\n",
      "+--------------------+--------------------------------+-------+-----------+-----------------+------+----------+--------------+--------------------+------+----------+--------------+--------------------+\n",
      "|Southwest Airline...|                           0.046|    127|       10.0|             18.0|spring|       123|          10.0|                17.0|middle|       123|          10.0|                18.0|\n",
      "|Southwest Airline...|                           0.046|    127|       10.0|             18.0|spring|       123|          10.0|                17.0| south|       122|          10.0|                16.0|\n",
      "|Southwest Airline...|                           0.046|    127|       10.0|             18.0|summer|       127|          10.0|                18.0|middle|       127|          11.0|                19.0|\n",
      "|Southwest Airline...|                           0.046|    127|       10.0|             18.0|summer|       127|          10.0|                18.0| south|       124|          10.0|                16.0|\n",
      "|Southwest Airline...|                           0.046|    127|       10.0|             18.0|autumn|       127|          10.0|                18.0|middle|       127|          11.0|                19.0|\n",
      "|Southwest Airline...|                           0.046|    127|       10.0|             18.0|autumn|       127|          10.0|                18.0| south|       102|          10.0|                16.0|\n",
      "|Southwest Airline...|                           0.046|    127|       10.0|             18.0|winter|       127|          10.0|                19.0|middle|       127|          11.0|                20.0|\n",
      "|Southwest Airline...|                           0.046|    127|       10.0|             18.0|winter|       127|          10.0|                19.0| south|       122|          10.0|                16.0|\n",
      "+--------------------+--------------------------------+-------+-----------+-----------------+------+----------+--------------+--------------------+------+----------+--------------+--------------------+\n",
      "\n"
     ]
    }
   ],
   "source": [
    "#проверим наличие данных\n",
    "spark.read.table(\"new_test_table\").show()"
   ]
  },
  {
   "cell_type": "code",
   "execution_count": 101,
   "id": "8e5719cd-74f1-404d-952e-6bdf6eb6ce65",
   "metadata": {},
   "outputs": [],
   "source": [
    "#остановим сессию\n",
    "spark.stop()"
   ]
  }
 ],
 "metadata": {
  "kernelspec": {
   "display_name": "Python 3 (ipykernel)",
   "language": "python",
   "name": "python3"
  },
  "language_info": {
   "codemirror_mode": {
    "name": "ipython",
    "version": 3
   },
   "file_extension": ".py",
   "mimetype": "text/x-python",
   "name": "python",
   "nbconvert_exporter": "python",
   "pygments_lexer": "ipython3",
   "version": "3.10.10"
  }
 },
 "nbformat": 4,
 "nbformat_minor": 5
}
